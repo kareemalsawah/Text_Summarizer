{
 "cells": [
  {
   "cell_type": "markdown",
   "metadata": {},
   "source": [
    "### Summarizing a sentence using simple\n",
    "I summarize a sentence using a simple idea. First, I count the frequency of each word in the document given. Then, for each sentence I give it a score according the words in the sentence and how frequent they are. Then, I choose the sentences with the top scores."
   ]
  },
  {
   "cell_type": "code",
   "execution_count": 1,
   "metadata": {},
   "outputs": [],
   "source": [
    "# Import the needed libraries and helper files\n",
    "\n",
    "import utils\n",
    "from collections import Counter\n",
    "import random\n",
    "import numpy as np"
   ]
  },
  {
   "cell_type": "code",
   "execution_count": 2,
   "metadata": {},
   "outputs": [],
   "source": [
    "'''\n",
    "Calculates the frequencies of words in the document\n",
    "\n",
    "Args:\n",
    "   words: array contains preprocessed words from the original text\n",
    "\n",
    "Returns:\n",
    "    freqs: dictionary contains each word's int value as a key and its normalized frequency as a value\n",
    "    vocab_to_int: dictionary contains words a keys and their int value as values\n",
    "'''\n",
    "def get_frequencies(words):\n",
    "    vocab_to_int, int_to_vocab = utils.create_lookup_tables(words)\n",
    "    int_words = [vocab_to_int[word] for word in words]\n",
    "\n",
    "    word_counts = Counter(int_words)\n",
    "\n",
    "    total_count = len(int_words)\n",
    "    freqs = {word: count/total_count for word, count in word_counts.items()}\n",
    "    return freqs,vocab_to_int"
   ]
  },
  {
   "cell_type": "code",
   "execution_count": 3,
   "metadata": {},
   "outputs": [],
   "source": [
    "'''\n",
    "Preprocesses text by removing unneeded punctuation.\n",
    "\n",
    "Args:\n",
    "    text: string containing the document text\n",
    "\n",
    "Returns:\n",
    "    text: preprocessed string with puncatuations replaced by spaces except for commas ',' and periods '.'\n",
    "'''\n",
    "def preprocess_text(text):\n",
    "    text = text.lower()\n",
    "    text = text.replace('\"', ' ')\n",
    "    text = text.replace(';', ' ')\n",
    "    text = text.replace('!', ' ')\n",
    "    text = text.replace('?', ' ')\n",
    "    text = text.replace('(', ' ')\n",
    "    text = text.replace(')', ' ')\n",
    "    text = text.replace('--', ' ')\n",
    "    text = text.replace('?', ' ')\n",
    "    text = text.replace(':', ' ')\n",
    "    text = text.replace('\\n', ' ')\n",
    "    text = text.replace('  ', ' ')\n",
    "    text = text.replace(\"'\",\" \")\n",
    "    return text\n",
    "\n",
    "    \n",
    "'''\n",
    "Convert text to array of sentences\n",
    "\n",
    "Args:\n",
    "    text: string containing the document text\n",
    "\n",
    "Returns:\n",
    "    sentences: array of sentences (a sentences is seperated from another by a comma ',' or a period '.')\n",
    "'''\n",
    "def preprocess_to_sentences(text):\n",
    "    text = preprocess_text(text)\n",
    "    sentences = \",\".join(text.split('.'))\n",
    "    return sentences.split(',')\n",
    "\n",
    "\n",
    "'''\n",
    "Convert text to array of words\n",
    "\n",
    "Args:\n",
    "    text: string containing the document text\n",
    "\n",
    "Returns:\n",
    "    words: array of words in the text\n",
    "'''\n",
    "def preprocess_to_words(text):\n",
    "    text = preprocess_text(text)\n",
    "    text = text.replace('.', ' ')\n",
    "    text = text.replace(',', ' ')\n",
    "    words = text.split(' ')\n",
    "    return words\n",
    "\n",
    "'''\n",
    "Assigns a score to a sentence\n",
    "\n",
    "Args:\n",
    "    sentence: string that is getting scores\n",
    "    freqs: dictionary contains each word's int value as a key and its normalized frequency as a value\n",
    "    vocab_to_int: dictionary contains words a keys and their int value as values\n",
    "\n",
    "Returns:\n",
    "    score: the sentence score\n",
    "'''\n",
    "def score(sentence,freqs,vocab_to_int):\n",
    "    score = 0\n",
    "    sentence_arr = sentence.split(' ')\n",
    "    for word in sentence_arr:\n",
    "        score += freqs[vocab_to_int[word]]\n",
    "    return score\n",
    "\n",
    "'''\n",
    "Summarizes a text (reduces the number of sentences by a ratio reduction_ratio)\n",
    "\n",
    "Args:\n",
    "    text: the original text to summarize\n",
    "    reduction_ratio: f the original text is 100 sentences keep reduction_ratio*100 sentences in the summarization\n",
    "\n",
    "Returns:\n",
    "    summarized: the summarized text\n",
    "'''\n",
    "def summarize(text,reduction_ratio=0.4):\n",
    "    sentences = preprocess_to_sentences(text)\n",
    "    words_arr = preprocess_to_words(text)\n",
    "    freqs,vocab_to_int = get_frequencies(words_arr)\n",
    "\n",
    "    # Calculate the scores for each sentence\n",
    "    sentence_scores = np.zeros(len(sentences))\n",
    "    for idx,sentence in enumerate(sentences):\n",
    "        sentence_scores[idx] += score(sentence,freqs,vocab_to_int)\n",
    "    sentence_scores = np.array(sentence_scores)\n",
    "    \n",
    "    # Find the sentences with the best scores\n",
    "    num_sentences_target = int(len(sentences)*reduction_ratio)\n",
    "    best_sentences = []\n",
    "    sentence_indices = []\n",
    "    for _ in range(num_sentences_target):\n",
    "        best_rank_index = np.argmax(sentence_scores)\n",
    "        sentence_scores = np.delete(sentence_scores,best_rank_index)\n",
    "        best_sentences.append(sentences[best_rank_index])\n",
    "        sentence_indices.append(best_rank_index)\n",
    "        del sentences[best_rank_index]\n",
    "\n",
    "    # Reorder the best sentences found according to the order of their appearance in the original text\n",
    "    answer_arr = []\n",
    "    for _ in range(len(best_sentences)):\n",
    "        smallest_index = np.argmin(sentence_indices)\n",
    "        temp_str = best_sentences[smallest_index]\n",
    "        answer_arr.append(temp_str)\n",
    "        del best_sentences[smallest_index]\n",
    "        sentence_indices = np.delete(sentence_indices,smallest_index)\n",
    "\n",
    "    # Join the answer arr contains the sentences using '.'\n",
    "    summarized = \".\".join(answer_arr)\n",
    "    \n",
    "    # Return answer\n",
    "    return summarized"
   ]
  },
  {
   "cell_type": "markdown",
   "metadata": {},
   "source": [
    "### Input block\n",
    "Input a text file and the ratio of sentences you want to keep."
   ]
  },
  {
   "cell_type": "code",
   "execution_count": 4,
   "metadata": {},
   "outputs": [
    {
     "name": "stdout",
     "output_type": "stream",
     "text": [
      "Recycling is the process of converting waste materials into new materials and objects. It is an alternative to \"conventional\" waste disposal that can save material and help lower greenhouse gas emissions. Recycling can prevent the waste of potentially useful materials and reduce the consumption of fresh raw materials, thereby reducing: energy usage, air pollution (from incineration), and water pollution (from landfilling).\n",
      "\n",
      "Recycling is a key component of modern waste reduction and is the third component of the \"Reduce, Reuse, and Recycle\" waste hierarchy.[1][2] Thus, recycling aims at environmental sustainability by substituting raw material inputs into and redirecting waste outputs out of the economic system.[3]\n",
      "\n",
      "There are some ISO standards related to recycling such as ISO 15270:2008 for plastics waste and ISO 14001:2015 for environmental management control of recycling practice.\n",
      "\n",
      "Recyclable materials include many kinds of glass, paper, cardboard, metal, plastic, tires, textiles, and electronics. The composting or other reuse of biodegradable wasteâ€”such as food or garden wasteâ€”is also considered recycling.[4] Materials to be recycled are either brought to a collection center or picked up from the curbside, then sorted, cleaned, and reprocessed into new materials destined for manufacturing.\n",
      "\n",
      "In the strictest sense, recycling of a material would produce a fresh supply of the same materialâ€”for example, used office paper would be converted into new office paper or used polystyrene foam into new polystyrene. However, this is often difficult or too expensive (compared with producing the same product from raw materials or other sources), so \"recycling\" of many products or materials involves their reuse in producing different materials (for example, paperboard) instead. Another form of recycling is the salvage of certain materials from complex products, either due to their intrinsic value (such as lead from car batteries, or gold from circuit boards), or due to their hazardous nature (e.g., removal and reuse of mercury from thermometers and thermostats).\n",
      "\n"
     ]
    }
   ],
   "source": [
    "with open('text_test') as f:\n",
    "    text = f.read()\n",
    "\n",
    "print(text)"
   ]
  },
  {
   "cell_type": "code",
   "execution_count": 5,
   "metadata": {},
   "outputs": [
    {
     "name": "stdout",
     "output_type": "stream",
     "text": [
      " recycling can prevent the waste of potentially useful materials and reduce the consumption of fresh raw materials. recycling is a key component of modern waste reduction and is the third component of the reduce. this is often difficult or too expensive compared with producing the same product from raw materials or other sources . removal and reuse of mercury from thermometers and thermostats \n"
     ]
    }
   ],
   "source": [
    "reduction_ratio = 0.1\n",
    "summarized = summarize(text,reduction_ratio)\n",
    "print(summarized)"
   ]
  }
 ],
 "metadata": {
  "kernelspec": {
   "display_name": "Python 3",
   "language": "python",
   "name": "python3"
  },
  "language_info": {
   "codemirror_mode": {
    "name": "ipython",
    "version": 3
   },
   "file_extension": ".py",
   "mimetype": "text/x-python",
   "name": "python",
   "nbconvert_exporter": "python",
   "pygments_lexer": "ipython3",
   "version": "3.7.0"
  }
 },
 "nbformat": 4,
 "nbformat_minor": 2
}
